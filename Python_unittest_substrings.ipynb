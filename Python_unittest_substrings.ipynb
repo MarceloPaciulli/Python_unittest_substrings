{
 "cells": [
  {
   "cell_type": "markdown",
   "id": "b772e6e5",
   "metadata": {},
   "source": [
    "### A string S made of uppercase English letters is given. In one move, four letters forming the word \"JAVA\", (one 'J', two 'A', one 'V') can be deleted from S. \n",
    "### ¿What is the maximum number times such a move can be applied to S?\n"
   ]
  },
  {
   "cell_type": "code",
   "execution_count": 15,
   "id": "5385f840",
   "metadata": {},
   "outputs": [
    {
     "name": "stdout",
     "output_type": "stream",
     "text": [
      "\u001b[1m\u001b[1mMaximum times that can be applied:  \u001b[1m\u001b[94m5\n"
     ]
    }
   ],
   "source": [
    "import numpy as np\n",
    "\n",
    "\n",
    "class color:\n",
    "    BLACK = '\\033[1m'\n",
    "    BLUE = '\\033[94m'\n",
    "    BOLD = '\\033[1m'\n",
    "    GREEN = '\\033[92m'\n",
    "\n",
    "\n",
    "word = 'JAVA' \n",
    "S = 'CJJAWEFAKJJ'\n",
    "\n",
    "counter = 0\n",
    "\n",
    "word_letters = np.unique(list(word)) \n",
    "letter_frequency_in_word = np.array([word.count(i) for i in word_letters]) \n",
    "letter_frequency_in_S = np.array([S.count(k) for k in word_letters])\n",
    "array_letters_word = np.array(letter_frequency_in_word) \n",
    "array_letters_S = np.array(letter_frequency_in_S)\n",
    "array_letters_S -= array_letters_word\n",
    "\n",
    "while np.all(array_letters_S >= 0):\n",
    "    array_letters_S -= array_letters_word\n",
    "    counter+=1\n",
    "            \n",
    "print(color.BOLD + color.BLACK + \"{0} {1}\"\n",
    "      .format(\"Maximum times that can be applied: \", color.BOLD + color.BLUE + str(counter)))\n",
    "\n"
   ]
  },
  {
   "cell_type": "code",
   "execution_count": 7,
   "id": "4757d72a",
   "metadata": {},
   "outputs": [],
   "source": [
    "import numpy as np\n",
    "\n",
    "def count_letters(word, S):\n",
    "    counter = 0\n",
    "    word_letters = np.unique(list(word))\n",
    "    letter_frequency_in_word = np.array([word.count(i) for i in word_letters])\n",
    "    letter_frequency_in_S = np.array([S.count(k) for k in word_letters])\n",
    "    array_letters_word = np.array(letter_frequency_in_word)\n",
    "    array_letters_S = np.array(letter_frequency_in_S)\n",
    "    array_letters_S -= array_letters_word\n",
    "    while not np.any(array_letters_S < 0):\n",
    "        array_letters_S -= array_letters_word\n",
    "        counter += 1\n",
    "    return counter\n"
   ]
  },
  {
   "cell_type": "markdown",
   "id": "52acf1cc",
   "metadata": {},
   "source": [
    "### Example of successful unit tests"
   ]
  },
  {
   "cell_type": "code",
   "execution_count": 22,
   "id": "79c8af01",
   "metadata": {},
   "outputs": [
    {
     "name": "stderr",
     "output_type": "stream",
     "text": [
      "test_count_letters (__main__.TestCountLetters) ... ok\n",
      "\n",
      "----------------------------------------------------------------------\n",
      "Ran 1 test in 0.003s\n",
      "\n",
      "OK\n"
     ]
    }
   ],
   "source": [
    "import unittest\n",
    "\n",
    "class TestCountLetters(unittest.TestCase):\n",
    "    def test_count_letters(self):\n",
    "        self.assertEqual(count_letters('PYTHON', 'YYTHPHONETHHWYTHNOPWYYHJTOJPQTOHNYP'), 3)  # unit test 1\n",
    "        self.assertEqual(count_letters('JAVASCRIPT', 'TYPESCRIPTVSHAJABXIJJVVAJTRVVJJJTCAICSPT'), 2) # unit test 2\n",
    "        self.assertEqual(count_letters('SQL', 'IITESLTWMQLSMLDJLJLESQJSLQLAQLSLLEASQ'), 5) # unit test 3\n",
    "        self.assertEqual(count_letters('JAVA', 'AAJJJYAJVQJKRJVJVMSDKVVAJNVAKJSLAV'), 3)  # unit test 4\n",
    "        \n",
    "\n",
    "# defines the function that runs the tests\n",
    "def run_tests():\n",
    "    suite = unittest.TestLoader().loadTestsFromTestCase(TestCountLetters)\n",
    "    unittest.TextTestRunner(verbosity=2).run(suite)\n",
    "\n",
    "# run the tests!\n",
    "run_tests()\n"
   ]
  },
  {
   "cell_type": "markdown",
   "id": "4c1a4485",
   "metadata": {},
   "source": [
    "### Example of unit tests with failures"
   ]
  },
  {
   "cell_type": "code",
   "execution_count": 23,
   "id": "2eb166a0",
   "metadata": {},
   "outputs": [
    {
     "name": "stderr",
     "output_type": "stream",
     "text": [
      "test_count_letters (__main__.TestCountLetters) ... FAIL\n",
      "\n",
      "======================================================================\n",
      "FAIL: test_count_letters (__main__.TestCountLetters)\n",
      "----------------------------------------------------------------------\n",
      "Traceback (most recent call last):\n",
      "  File \"<ipython-input-23-3fd510167d31>\", line 7, in test_count_letters\n",
      "    self.assertEqual(count_letters('SQL', 'IITESLTWMQLSMLDJLJLESQJSLQLAQLSLLEASQ'), 4) # unit test 3\n",
      "AssertionError: 5 != 4\n",
      "\n",
      "----------------------------------------------------------------------\n",
      "Ran 1 test in 0.002s\n",
      "\n",
      "FAILED (failures=1)\n"
     ]
    }
   ],
   "source": [
    "import unittest\n",
    "\n",
    "class TestCountLetters(unittest.TestCase):\n",
    "    def test_count_letters(self):\n",
    "        self.assertEqual(count_letters('PYTHON', 'YYTHPHONETHHWYTHNOPWYYHJTOJPQTOHNYP'), 3)  # unit test 1\n",
    "        self.assertEqual(count_letters('JAVASCRIPT', 'TYPESCRIPTVSHAJABXIJJVVAJTRVVJJJTCAICSPT'), 2) # unit test 2\n",
    "        self.assertEqual(count_letters('SQL', 'IITESLTWMQLSMLDJLJLESQJSLQLAQLSLLEASQ'), 4) # unit test 3\n",
    "        self.assertEqual(count_letters('JAVA', 'AAJJJYAJVQJKRJVJVMSDKVVAJNVAKJSLAV'), 3)  # unit test 4\n",
    "        \n",
    "\n",
    "# Define la función que ejecuta las pruebas\n",
    "def run_tests():\n",
    "    suite = unittest.TestLoader().loadTestsFromTestCase(TestCountLetters)\n",
    "    unittest.TextTestRunner(verbosity=2).run(suite)\n",
    "\n",
    "# Ejecuta las pruebas\n",
    "run_tests()"
   ]
  }
 ],
 "metadata": {
  "kernelspec": {
   "display_name": "Python 3",
   "language": "python",
   "name": "python3"
  },
  "language_info": {
   "codemirror_mode": {
    "name": "ipython",
    "version": 3
   },
   "file_extension": ".py",
   "mimetype": "text/x-python",
   "name": "python",
   "nbconvert_exporter": "python",
   "pygments_lexer": "ipython3",
   "version": "3.8.8"
  }
 },
 "nbformat": 4,
 "nbformat_minor": 5
}
